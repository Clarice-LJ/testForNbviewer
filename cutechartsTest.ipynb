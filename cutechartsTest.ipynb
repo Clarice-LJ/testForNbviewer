{
 "cells": [
  {
   "cell_type": "markdown",
   "metadata": {},
   "source": [
    "# cutecharts包的探索"
   ]
  },
  {
   "cell_type": "markdown",
   "metadata": {},
   "source": [
    "这也是第一次jupyter的探索\n",
    "<br />\n",
    "## 条形图Bar"
   ]
  },
  {
   "cell_type": "code",
   "execution_count": 1,
   "metadata": {},
   "outputs": [
    {
     "data": {
      "text/html": [
       "\n",
       "<script>\n",
       "    require.config({\n",
       "        paths: {\n",
       "            'chartXkcd':'https://cdn.jsdelivr.net/npm/chart.xkcd@1.1/dist/chart.xkcd.min'\n",
       "        }\n",
       "    });\n",
       "</script>\n",
       "\n",
       "<div id=\"c8b9a4e14d81484087e6e7db9102f62f\" class=\"chart-container\" style=\"width: 800px\">\n",
       "        <svg id=\"chart_c8b9a4e14d81484087e6e7db9102f62f\"></svg>\n",
       "    </div>\n",
       "    <script>\n",
       "        require(['chartXkcd'], function(chartXkcd) {\n",
       "            const svg_c8b9a4e14d81484087e6e7db9102f62f = document.querySelector('#chart_c8b9a4e14d81484087e6e7db9102f62f')\n",
       "            const chart_c8b9a4e14d81484087e6e7db9102f62f = new chartXkcd.Bar(svg_c8b9a4e14d81484087e6e7db9102f62f, {\"title\": \"\\u6807\\u9898\\uff1aLJJ\\u7684cutecharts\\u5305\\u6837\\u4f8b\", \"data\": {\"datasets\": [{\"label\": \"LJJ\\u5e78\\u798f\\u6307\\u6570\", \"data\": [9.9, 7.1, 5.6, 5.5, 8.3]}], \"labels\": [\"1\\u6708\", \"2\\u6708\", \"3\\u6708\", \"4\\u6708\", \"5\\u6708\"]}, \"xLabel\": \"month\", \"yLabel\": \"\\u5e78\\u798f\\u6307\\u6570\", \"options\": {\"yTickCount\": 3}});\n",
       "        })\n",
       "    </script>\n"
      ],
      "text/plain": [
       "<cutecharts.render.engine.HTML at 0x2e84d9c6cc0>"
      ]
     },
     "execution_count": 1,
     "metadata": {},
     "output_type": "execute_result"
    }
   ],
   "source": [
    "from cutecharts.charts import Bar, Line, Pie\n",
    "bar = Bar('标题：LJJ的cutecharts包样例')\n",
    "bar.set_options(labels = ['1月', '2月', '3月', '4月', '5月'], \\\n",
    "                x_label='month', y_label='幸福指数')\n",
    "bar.add_series('LJJ幸福指数', data=[9.9, 7.1, 5.6, 5.5, 8.3])\n",
    "bar.render_notebook()\n",
    "\n",
    "\n",
    "\n",
    "line = Line('标题：2019年下半年LJJ的新路历程')\n",
    "line.set_options(labels = ['7月','8月','9月','10月','11月','12月'],\\\n",
    "                x_label='month', y_label='情感指数')\n",
    "line.add_series('LJJ情感指数', data = [3.1, 3.2, 6.6, 5.8, 4.5, 6.3])\n",
    "line.render_notebook()"
   ]
  },
  {
   "cell_type": "markdown",
   "metadata": {},
   "source": [
    "## 折线图Line"
   ]
  },
  {
   "cell_type": "code",
   "execution_count": 5,
   "metadata": {},
   "outputs": [
    {
     "data": {
      "text/html": [
       "\n",
       "<script>\n",
       "    require.config({\n",
       "        paths: {\n",
       "            'chartXkcd':'https://cdn.jsdelivr.net/npm/chart.xkcd@1.1/dist/chart.xkcd.min'\n",
       "        }\n",
       "    });\n",
       "</script>\n",
       "\n",
       "<div id=\"5384d829b23d4f58b26689efba9c1151\" class=\"chart-container\" style=\"width: 800px\">\n",
       "        <svg id=\"chart_5384d829b23d4f58b26689efba9c1151\"></svg>\n",
       "    </div>\n",
       "    <script>\n",
       "        require(['chartXkcd'], function(chartXkcd) {\n",
       "            const svg_5384d829b23d4f58b26689efba9c1151 = document.querySelector('#chart_5384d829b23d4f58b26689efba9c1151')\n",
       "            const chart_5384d829b23d4f58b26689efba9c1151 = new chartXkcd.Line(svg_5384d829b23d4f58b26689efba9c1151, {\"title\": \"\\u6807\\u9898\\uff1a2019\\u5e74\\u4e0b\\u534a\\u5e74LJJ\\u7684\\u60c5\\u611f\\u6307\\u6570\", \"data\": {\"datasets\": [{\"label\": \"LJJ\\u60c5\\u611f\\u6307\\u6570\", \"data\": [3.3, 3.4, 6.9, 5.6, 5.4, 6.7]}], \"labels\": [\"7\\u6708\", \"8\\u6708\", \"9\\u6708\", \"10\\u6708\", \"11\\u6708\", \"12\\u6708\"]}, \"xLabel\": \"month\", \"yLabel\": \"\\u60c5\\u611f\\u6307\\u6570\", \"options\": {\"yTickCount\": 3, \"legendPosition\": 1}});\n",
       "        })\n",
       "    </script>\n"
      ],
      "text/plain": [
       "<cutecharts.render.engine.HTML at 0x2e84ea57b70>"
      ]
     },
     "execution_count": 5,
     "metadata": {},
     "output_type": "execute_result"
    }
   ],
   "source": [
    "line = Line('标题：2019年下半年LJJ的情感指数')\n",
    "line.set_options(labels = ['7月','8月','9月','10月','11月','12月'],\\\n",
    "                 x_label='month',y_label='情感指数')\n",
    "line.add_series('LJJ情感指数',data = [3.3, 3.4, 6.9, 5.6, 5.4, 6.7])\n",
    "line.render_notebook()"
   ]
  },
  {
   "cell_type": "markdown",
   "metadata": {},
   "source": [
    "## 饼图Pie"
   ]
  },
  {
   "cell_type": "code",
   "execution_count": 7,
   "metadata": {},
   "outputs": [
    {
     "data": {
      "text/html": [
       "\n",
       "<script>\n",
       "    require.config({\n",
       "        paths: {\n",
       "            'chartXkcd':'https://cdn.jsdelivr.net/npm/chart.xkcd@1.1/dist/chart.xkcd.min'\n",
       "        }\n",
       "    });\n",
       "</script>\n",
       "\n",
       "<div id=\"14f2c0a3cd0a42c6b5072a910afc59bc\" class=\"chart-container\" style=\"width: 800px\">\n",
       "        <svg id=\"chart_14f2c0a3cd0a42c6b5072a910afc59bc\"></svg>\n",
       "    </div>\n",
       "    <script>\n",
       "        require(['chartXkcd'], function(chartXkcd) {\n",
       "            const svg_14f2c0a3cd0a42c6b5072a910afc59bc = document.querySelector('#chart_14f2c0a3cd0a42c6b5072a910afc59bc')\n",
       "            const chart_14f2c0a3cd0a42c6b5072a910afc59bc = new chartXkcd.Pie(svg_14f2c0a3cd0a42c6b5072a910afc59bc, {\"title\": \"\\u6807\\u9898\\uff1a2019\\u5e74\\u4e0b\\u534a\\u5e74LJJ\\u7684\\u60c5\\u611f\\u86cb\\u7cd5\", \"data\": {\"datasets\": [{\"data\": [1.5, 2.0, 1.8, 1.6, 3.5, 2.6]}], \"labels\": [\"7\\u6708\", \"8\\u6708\", \"9\\u6708\", \"10\\u6708\", \"11\\u6708\", \"12\\u6708\"]}, \"options\": {\"innerRadius\": 0.5, \"legendPosition\": 1}});\n",
       "        })\n",
       "    </script>\n"
      ],
      "text/plain": [
       "<cutecharts.render.engine.HTML at 0x2e84ea57ef0>"
      ]
     },
     "execution_count": 7,
     "metadata": {},
     "output_type": "execute_result"
    }
   ],
   "source": [
    "pie = Pie('标题：2019年下半年LJJ的情感蛋糕')\n",
    "pie.set_options(labels = ['7月','8月','9月','10月','11月','12月'])\n",
    "values = [1.5,2.0,1.8,1.6,3.5,2.6]\n",
    "pie.add_series(values)\n",
    "pie.render_notebook()"
   ]
  },
  {
   "cell_type": "markdown",
   "metadata": {},
   "source": [
    "<br /><br />\n",
    "以及一些补充内容\n",
    "### 安装"
   ]
  },
  {
   "cell_type": "code",
   "execution_count": null,
   "metadata": {},
   "outputs": [],
   "source": [
    "python -m pip install cutecharts"
   ]
  },
  {
   "cell_type": "markdown",
   "metadata": {},
   "source": [
    "### 生成html网页"
   ]
  },
  {
   "cell_type": "code",
   "execution_count": null,
   "metadata": {},
   "outputs": [],
   "source": [
    "from cutecharts.components import Page\n",
    "\n",
    "page = Page()\n",
    "page.add(bar,line,pie)\n",
    "page.render()"
   ]
  }
 ],
 "metadata": {
  "kernelspec": {
   "display_name": "Python 3",
   "language": "python",
   "name": "python3"
  },
  "language_info": {
   "codemirror_mode": {
    "name": "ipython",
    "version": 3
   },
   "file_extension": ".py",
   "mimetype": "text/x-python",
   "name": "python",
   "nbconvert_exporter": "python",
   "pygments_lexer": "ipython3",
   "version": "3.7.3"
  }
 },
 "nbformat": 4,
 "nbformat_minor": 2
}
